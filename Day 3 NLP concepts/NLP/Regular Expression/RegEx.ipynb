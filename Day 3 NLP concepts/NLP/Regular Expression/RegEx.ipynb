{
 "cells": [
  {
   "cell_type": "code",
   "execution_count": 2,
   "id": "79c36282",
   "metadata": {},
   "outputs": [],
   "source": [
    "import re #imorting RegEx or Regular Expression"
   ]
  },
  {
   "cell_type": "code",
   "execution_count": 19,
   "id": "0c9737b0",
   "metadata": {},
   "outputs": [
    {
     "name": "stdout",
     "output_type": "stream",
     "text": [
      "tiger\n",
      "<re.Match object; span=(0, 5), match='tiger'>\n",
      "None\n"
     ]
    }
   ],
   "source": [
    "s =\"tiger is the national animal of india\"\n",
    "p =\"tiger\"\n",
    "p1= \"lion\"\n",
    "m = re.match(p,s) #matches the same pattern present in the string only the starting one\n",
    "print(m.group(0)) #prints exact output\n",
    "print(m) #prints the match object\n",
    "n = re.match(p1,s) #prints none since there is no pattern present in the string\n",
    "print(n)"
   ]
  },
  {
   "cell_type": "code",
   "execution_count": 10,
   "id": "968b5449",
   "metadata": {},
   "outputs": [
    {
     "data": {
      "text/plain": [
       "'national'"
      ]
     },
     "execution_count": 10,
     "metadata": {},
     "output_type": "execute_result"
    }
   ],
   "source": [
    "s =\"tiger is the national animal of india\"\n",
    "p =\"national\"\n",
    "m = re.search(p,s) #searches for the pattern anywhere in the string \n",
    "print(m.group())"
   ]
  },
  {
   "cell_type": "code",
   "execution_count": 23,
   "id": "1b97293f",
   "metadata": {},
   "outputs": [
    {
     "name": "stdout",
     "output_type": "stream",
     "text": [
      "['national', 'national']\n"
     ]
    }
   ],
   "source": [
    "s =\"tiger is the national animal of india and national sports is hockey\"\n",
    "p =\"national\"\n",
    "a=re.findall(p,s) #used to find all occurances of the pattern\n",
    "print(a)"
   ]
  },
  {
   "cell_type": "code",
   "execution_count": 24,
   "id": "c035ba48",
   "metadata": {},
   "outputs": [
    {
     "name": "stdout",
     "output_type": "stream",
     "text": [
      "13\n",
      "42\n"
     ]
    }
   ],
   "source": [
    "b = re.finditer(p,s) #returns the indexes of the patterns present in the string \n",
    "for n in b: #its used for finding where these patterns are present\n",
    "    print(n.start())"
   ]
  },
  {
   "cell_type": "code",
   "execution_count": 26,
   "id": "981ebfcf",
   "metadata": {},
   "outputs": [
    {
     "name": "stdout",
     "output_type": "stream",
     "text": [
      "['12-09-1992', '15-12-1999']\n"
     ]
    }
   ],
   "source": [
    "str = \"Ron was born on 12-09-1992 and he was admitted to school on 15-12-1999\"\n",
    "pat= \"\\d{2}-\\d{2}-\\d{4}\" #Using wild cards like /d is used to match all the numbers present in the txt\n",
    "a=re.findall(pat,str)#to find all date like str presnt in the str\n",
    "print(a)"
   ]
  },
  {
   "cell_type": "code",
   "execution_count": 30,
   "id": "8fef23ac",
   "metadata": {},
   "outputs": [
    {
     "name": "stdout",
     "output_type": "stream",
     "text": [
      "Ron was born on monday and he was admitted to school on monday\n"
     ]
    }
   ],
   "source": [
    "print(re.sub(pat,\"monday\",str)) #sub used to replace pattern with the user given input like monday"
   ]
  },
  {
   "cell_type": "code",
   "execution_count": 31,
   "id": "ed08523e",
   "metadata": {},
   "outputs": [
    {
     "ename": "ModuleNotFoundError",
     "evalue": "No module named 'tensorflow'",
     "output_type": "error",
     "traceback": [
      "\u001b[1;31m---------------------------------------------------------------------------\u001b[0m",
      "\u001b[1;31mModuleNotFoundError\u001b[0m                       Traceback (most recent call last)",
      "\u001b[1;32mC:\\Users\\SAJJAD~1\\AppData\\Local\\Temp/ipykernel_3168/4294963926.py\u001b[0m in \u001b[0;36m<module>\u001b[1;34m\u001b[0m\n\u001b[1;32m----> 1\u001b[1;33m \u001b[1;32mimport\u001b[0m \u001b[0mtensorflow\u001b[0m\u001b[1;33m\u001b[0m\u001b[1;33m\u001b[0m\u001b[0m\n\u001b[0m",
      "\u001b[1;31mModuleNotFoundError\u001b[0m: No module named 'tensorflow'"
     ]
    }
   ],
   "source": []
  }
 ],
 "metadata": {
  "kernelspec": {
   "display_name": "Python 3 (ipykernel)",
   "language": "python",
   "name": "python3"
  },
  "language_info": {
   "codemirror_mode": {
    "name": "ipython",
    "version": 3
   },
   "file_extension": ".py",
   "mimetype": "text/x-python",
   "name": "python",
   "nbconvert_exporter": "python",
   "pygments_lexer": "ipython3",
   "version": "3.9.7"
  }
 },
 "nbformat": 4,
 "nbformat_minor": 5
}
